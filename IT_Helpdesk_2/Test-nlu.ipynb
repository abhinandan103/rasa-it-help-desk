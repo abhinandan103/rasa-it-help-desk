{
 "cells": [
  {
   "cell_type": "code",
   "execution_count": 1,
   "metadata": {
    "scrolled": false
   },
   "outputs": [
    {
     "name": "stderr",
     "output_type": "stream",
     "text": [
      "/usr/lib/miniconda3/lib/python3.6/site-packages/h5py/__init__.py:36: FutureWarning: Conversion of the second argument of issubdtype from `float` to `np.floating` is deprecated. In future, it will be treated as `np.float64 == np.dtype(float).type`.\n",
      "  from ._conv import register_converters as _register_converters\n",
      "/usr/lib/miniconda3/lib/python3.6/importlib/_bootstrap.py:219: RuntimeWarning: numpy.dtype size changed, may indicate binary incompatibility. Expected 96, got 88\n",
      "  return f(*args, **kwds)\n",
      "/usr/lib/miniconda3/lib/python3.6/importlib/_bootstrap.py:219: RuntimeWarning: numpy.dtype size changed, may indicate binary incompatibility. Expected 96, got 88\n",
      "  return f(*args, **kwds)\n",
      "/usr/lib/miniconda3/lib/python3.6/importlib/_bootstrap.py:219: RuntimeWarning: numpy.dtype size changed, may indicate binary incompatibility. Expected 96, got 88\n",
      "  return f(*args, **kwds)\n",
      "/usr/lib/miniconda3/lib/python3.6/importlib/_bootstrap.py:219: RuntimeWarning: numpy.ufunc size changed, may indicate binary incompatibility. Expected 192, got 176\n",
      "  return f(*args, **kwds)\n",
      "/usr/lib/miniconda3/lib/python3.6/importlib/_bootstrap.py:219: RuntimeWarning: numpy.dtype size changed, may indicate binary incompatibility. Expected 96, got 88\n",
      "  return f(*args, **kwds)\n",
      "/usr/lib/miniconda3/lib/python3.6/importlib/_bootstrap.py:219: RuntimeWarning: numpy.ufunc size changed, may indicate binary incompatibility. Expected 192, got 176\n",
      "  return f(*args, **kwds)\n"
     ]
    },
    {
     "name": "stdout",
     "output_type": "stream",
     "text": [
      "Fitting 2 folds for each of 6 candidates, totalling 12 fits\n"
     ]
    },
    {
     "name": "stderr",
     "output_type": "stream",
     "text": [
      "/usr/lib/miniconda3/lib/python3.6/site-packages/sklearn/metrics/classification.py:1135: UndefinedMetricWarning: F-score is ill-defined and being set to 0.0 in labels with no predicted samples.\n",
      "  'precision', 'predicted', average, warn_for)\n",
      "/usr/lib/miniconda3/lib/python3.6/site-packages/sklearn/metrics/classification.py:1135: UndefinedMetricWarning: F-score is ill-defined and being set to 0.0 in labels with no predicted samples.\n",
      "  'precision', 'predicted', average, warn_for)\n",
      "/usr/lib/miniconda3/lib/python3.6/site-packages/sklearn/metrics/classification.py:1135: UndefinedMetricWarning: F-score is ill-defined and being set to 0.0 in labels with no predicted samples.\n",
      "  'precision', 'predicted', average, warn_for)\n",
      "/usr/lib/miniconda3/lib/python3.6/site-packages/sklearn/metrics/classification.py:1135: UndefinedMetricWarning: F-score is ill-defined and being set to 0.0 in labels with no predicted samples.\n",
      "  'precision', 'predicted', average, warn_for)\n",
      "/usr/lib/miniconda3/lib/python3.6/site-packages/sklearn/metrics/classification.py:1135: UndefinedMetricWarning: F-score is ill-defined and being set to 0.0 in labels with no predicted samples.\n",
      "  'precision', 'predicted', average, warn_for)\n",
      "/usr/lib/miniconda3/lib/python3.6/site-packages/sklearn/metrics/classification.py:1135: UndefinedMetricWarning: F-score is ill-defined and being set to 0.0 in labels with no predicted samples.\n",
      "  'precision', 'predicted', average, warn_for)\n",
      "[Parallel(n_jobs=1)]: Done  12 out of  12 | elapsed:    9.7s finished\n"
     ]
    }
   ],
   "source": [
    "from rasa_nlu.training_data import load_data\n",
    "from rasa_nlu.config import RasaNLUModelConfig\n",
    "from rasa_nlu.model import Trainer\n",
    "from rasa_nlu import config\n",
    "path = './'\n",
    "training_data = load_data(path+'nlu_training.json')\n",
    "trainer = Trainer(config.load(path+\"nlu_model_config.yml\"))\n",
    "trainer.train(training_data)\n",
    "model_directory = trainer.persist('./nlu_model/',fixed_model_name=\"current\")  # Returns the directory the model is stored in"
   ]
  },
  {
   "cell_type": "code",
   "execution_count": 2,
   "metadata": {},
   "outputs": [
    {
     "data": {
      "text/plain": [
       "'/home/arusia/work/rasaextension/examples/DemoStories/./nlu_model/default/current'"
      ]
     },
     "execution_count": 2,
     "metadata": {},
     "output_type": "execute_result"
    }
   ],
   "source": [
    "model_directory"
   ]
  },
  {
   "cell_type": "code",
   "execution_count": 4,
   "metadata": {
    "scrolled": true
   },
   "outputs": [],
   "source": [
    "from rasa_nlu.model import Metadata, Interpreter\n",
    "interpreter = Interpreter.load('./nlu_model/default/current')"
   ]
  },
  {
   "cell_type": "code",
   "execution_count": 5,
   "metadata": {},
   "outputs": [
    {
     "data": {
      "text/plain": [
       "{'text': 'Please rate this conversation.',\n",
       " 'act': {'name': 'feedback', 'confidence': 0.6507193522933554},\n",
       " 'slots': [{'start': 0,\n",
       "   'end': 0,\n",
       "   'value': None,\n",
       "   'entity': 'password_reset',\n",
       "   'confidence': 0,\n",
       "   'extractor': 'ner_crf',\n",
       "   'slot': 'password_reset'},\n",
       "  {'start': 0,\n",
       "   'end': 0,\n",
       "   'value': None,\n",
       "   'entity': 'O',\n",
       "   'confidence': 0,\n",
       "   'extractor': 'ner_crf',\n",
       "   'slot': 'O'},\n",
       "  {'start': 0,\n",
       "   'end': 0,\n",
       "   'value': None,\n",
       "   'entity': 'application_skype',\n",
       "   'confidence': 0,\n",
       "   'extractor': 'ner_crf',\n",
       "   'slot': 'application_skype'},\n",
       "  {'start': 0,\n",
       "   'end': 0,\n",
       "   'value': None,\n",
       "   'entity': 'application_salesforce',\n",
       "   'confidence': 0,\n",
       "   'extractor': 'ner_crf',\n",
       "   'slot': 'application_salesforce'},\n",
       "  {'start': 0,\n",
       "   'end': 0,\n",
       "   'value': None,\n",
       "   'entity': 'application_omniview',\n",
       "   'confidence': 0,\n",
       "   'extractor': 'ner_crf',\n",
       "   'slot': 'application_omniview'},\n",
       "  {'start': 0,\n",
       "   'end': 0,\n",
       "   'value': None,\n",
       "   'entity': 'ID',\n",
       "   'confidence': 0,\n",
       "   'extractor': 'ner_crf',\n",
       "   'slot': 'ID'},\n",
       "  {'start': 0,\n",
       "   'end': 0,\n",
       "   'value': None,\n",
       "   'entity': 'number',\n",
       "   'confidence': 0,\n",
       "   'extractor': 'ner_crf',\n",
       "   'slot': 'number'},\n",
       "  {'start': 0,\n",
       "   'end': 0,\n",
       "   'value': None,\n",
       "   'entity': 'security_code',\n",
       "   'confidence': 0,\n",
       "   'extractor': 'ner_crf',\n",
       "   'slot': 'security_code'},\n",
       "  {'start': 0,\n",
       "   'end': 0,\n",
       "   'value': None,\n",
       "   'entity': 'request_number',\n",
       "   'confidence': 0,\n",
       "   'extractor': 'ner_crf',\n",
       "   'slot': 'request_number'},\n",
       "  {'start': 0,\n",
       "   'end': 0,\n",
       "   'value': None,\n",
       "   'entity': 'finished',\n",
       "   'confidence': 0,\n",
       "   'extractor': 'ner_crf',\n",
       "   'slot': 'finished'},\n",
       "  {'start': 0,\n",
       "   'end': 0,\n",
       "   'value': None,\n",
       "   'entity': 'access',\n",
       "   'confidence': 0,\n",
       "   'extractor': 'ner_crf',\n",
       "   'slot': 'access'},\n",
       "  {'start': 0,\n",
       "   'end': 0,\n",
       "   'value': None,\n",
       "   'entity': 'machine',\n",
       "   'confidence': 0,\n",
       "   'extractor': 'ner_crf',\n",
       "   'slot': 'machine'},\n",
       "  {'start': 0,\n",
       "   'end': 0,\n",
       "   'value': None,\n",
       "   'entity': 'send_otp',\n",
       "   'confidence': 0,\n",
       "   'extractor': 'ner_crf',\n",
       "   'slot': 'send_otp'},\n",
       "  {'start': 0,\n",
       "   'end': 0,\n",
       "   'value': None,\n",
       "   'entity': 'approval',\n",
       "   'confidence': 0,\n",
       "   'extractor': 'ner_crf',\n",
       "   'slot': 'approval'},\n",
       "  {'start': 0,\n",
       "   'end': 0,\n",
       "   'value': None,\n",
       "   'entity': 'admin_access',\n",
       "   'confidence': 0,\n",
       "   'extractor': 'ner_crf',\n",
       "   'slot': 'admin_access'},\n",
       "  {'start': 0,\n",
       "   'end': 0,\n",
       "   'value': None,\n",
       "   'entity': 'login_able',\n",
       "   'confidence': 0,\n",
       "   'extractor': 'ner_crf',\n",
       "   'slot': 'login_able'},\n",
       "  {'start': 0,\n",
       "   'end': 0,\n",
       "   'value': None,\n",
       "   'entity': 'email_sent',\n",
       "   'confidence': 0,\n",
       "   'extractor': 'ner_crf',\n",
       "   'slot': 'email_sent'}],\n",
       " 'act_ranking': [{'name': 'feedback', 'confidence': 0.6507193522933554},\n",
       "  {'name': 'inform', 'confidence': 0.08222158266153018},\n",
       "  {'name': 'request', 'confidence': 0.06536421043597578},\n",
       "  {'name': 'greet', 'confidence': 0.06493633365676739},\n",
       "  {'name': 'affirm', 'confidence': 0.03457427755604062},\n",
       "  {'name': 'deny', 'confidence': 0.030628058718689958},\n",
       "  {'name': 'confirm', 'confidence': 0.023702151716269708},\n",
       "  {'name': 'bye', 'confidence': 0.01804228793141522},\n",
       "  {'name': 'gratitude', 'confidence': 0.01736428459548676},\n",
       "  {'name': 'anythingelse', 'confidence': 0.012447460434469064}]}"
      ]
     },
     "execution_count": 5,
     "metadata": {},
     "output_type": "execute_result"
    }
   ],
   "source": [
    "interpreter.parse(u\"Please rate this conversation.\")"
   ]
  },
  {
   "cell_type": "code",
   "execution_count": null,
   "metadata": {},
   "outputs": [],
   "source": []
  },
  {
   "cell_type": "code",
   "execution_count": null,
   "metadata": {},
   "outputs": [],
   "source": [
    "intere"
   ]
  },
  {
   "cell_type": "code",
   "execution_count": null,
   "metadata": {},
   "outputs": [],
   "source": []
  },
  {
   "cell_type": "code",
   "execution_count": null,
   "metadata": {},
   "outputs": [],
   "source": []
  }
 ],
 "metadata": {
  "kernelspec": {
   "display_name": "Python 3",
   "language": "python",
   "name": "python3"
  },
  "language_info": {
   "codemirror_mode": {
    "name": "ipython",
    "version": 3
   },
   "file_extension": ".py",
   "mimetype": "text/x-python",
   "name": "python",
   "nbconvert_exporter": "python",
   "pygments_lexer": "ipython3",
   "version": "3.6.5"
  }
 },
 "nbformat": 4,
 "nbformat_minor": 2
}
