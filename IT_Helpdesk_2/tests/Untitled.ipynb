{
 "cells": [
  {
   "cell_type": "code",
   "execution_count": 2,
   "metadata": {},
   "outputs": [],
   "source": [
    "from websocket import WebSocket\n",
    "import json\n",
    "import pytest\n",
    "import numpy as np\n",
    "from rasa_core.envconfig import EnvConfig"
   ]
  },
  {
   "cell_type": "code",
   "execution_count": 3,
   "metadata": {},
   "outputs": [],
   "source": [
    "env_config = EnvConfig(\"../envconfig.json\")"
   ]
  },
  {
   "cell_type": "code",
   "execution_count": 4,
   "metadata": {},
   "outputs": [],
   "source": [
    "sender_id = str(np.random.randint(123456))+\"_\"+\"john123\""
   ]
  },
  {
   "cell_type": "code",
   "execution_count": 5,
   "metadata": {},
   "outputs": [],
   "source": [
    "from difflib import SequenceMatcher\n",
    "\n",
    "def similar(a, b):\n",
    "    return SequenceMatcher(None, a, b).ratio()"
   ]
  },
  {
   "cell_type": "code",
   "execution_count": 6,
   "metadata": {},
   "outputs": [],
   "source": [
    "def login(idd):\n",
    "    return json.dumps({'status':'login','sender':idd})\n",
    "\n",
    "def send_msg(idd,message):\n",
    "    return json.dumps({'text':message,'sender':idd})"
   ]
  },
  {
   "cell_type": "code",
   "execution_count": 7,
   "metadata": {},
   "outputs": [],
   "source": [
    "from websocket import WebSocket\n",
    "import json\n",
    "import pytest\n",
    "from rasa_core.envconfig import EnvConfig\n",
    "import numpy as np\n",
    "import requests\n",
    "\n",
    "env_config = EnvConfig(\"../envconfig.json\")\n",
    "\n",
    "\n",
    "\n",
    "ws_user = WebSocket()\n",
    "ws_agent = WebSocket()\n",
    "\n",
    "\n",
    "\n",
    "\n",
    "def test_connection():\n",
    "    ws_user.connect('ws://0.0.0.0:'+env_config.userchannelport+'/webhook')\n",
    "    ws_agent.connect('ws://0.0.0.0:'+env_config.hachannelport+'/webhook')\n",
    "    ws_user.send(login(sender_id))\n",
    "\n",
    "    \n",
    "    ws_user.send(send_msg(sender_id,'Hi'))\n",
    "    received_data=ws_user.recv()\n",
    "\n",
    "\n",
    "    ws_user.send(send_msg(sender_id,'Yes'))\n",
    "    received_data=ws_user.recv()\n",
    "\n",
    "    \n",
    "    ws_agent.send(login('HA_agent5+'+sender_id))\n",
    "    received_data=ws_agent.recv()\n",
    "\n",
    "    \n",
    "    ws_user.send(send_msg(sender_id,'Yes'))\n",
    "    received_data=ws_user.recv()\n",
    "    \n",
    "    ws_user.send(send_msg(sender_id,'ok'))\n",
    "    received_data=ws_user.recv()\n",
    "    \n",
    "    received_data = requests.get(\"http://localhost:6212/?sender_id=\"+sender_id)\n",
    "    ws_agent.send(send_msg('HA_agent5+'+sender_id, \"Hi john, Your payoff amount is $1461\"))\n",
    "\n",
    "    received_data=ws_user.recv()\n",
    "    ws_user.send(send_msg(sender_id,\"ok\"))\n",
    "             \n",
    "    \n"
   ]
  },
  {
   "cell_type": "code",
   "execution_count": 8,
   "metadata": {},
   "outputs": [],
   "source": [
    "test_connection()"
   ]
  },
  {
   "cell_type": "code",
   "execution_count": null,
   "metadata": {},
   "outputs": [],
   "source": [
    "env_config.hachannelport"
   ]
  },
  {
   "cell_type": "code",
   "execution_count": null,
   "metadata": {},
   "outputs": [],
   "source": [
    "r = requests.get(\"http://localhost:6212/?sender_id=\"+sender_id)"
   ]
  },
  {
   "cell_type": "code",
   "execution_count": null,
   "metadata": {},
   "outputs": [],
   "source": []
  },
  {
   "cell_type": "code",
   "execution_count": null,
   "metadata": {
    "scrolled": false
   },
   "outputs": [],
   "source": [
    "r.json()"
   ]
  },
  {
   "cell_type": "code",
   "execution_count": null,
   "metadata": {},
   "outputs": [],
   "source": [
    "import requests"
   ]
  },
  {
   "cell_type": "code",
   "execution_count": 12,
   "metadata": {},
   "outputs": [],
   "source": [
    "import redis\n",
    "import _pickle\n",
    "a = redis.StrictRedis(host = \"idaredb.eastus.cloudapp.azure.com\", port =6379)\n",
    "tracker = a.get(\"e5dz24zs714b13guf2eyu1bj28z2g3pq_john1234\")\n",
    "tracker = _pickle.loads(tracker)"
   ]
  },
  {
   "cell_type": "code",
   "execution_count": 13,
   "metadata": {},
   "outputs": [
    {
     "data": {
      "text/plain": [
       "{'text': 'okay',\n",
       " 'intent': 'affirm  ',\n",
       " 'confidence': '0.93',\n",
       " 'recom': ['Hi. Your Payoff amount is $6973',\n",
       "  'Hey there. Your Payoff amount is $6973',\n",
       "  'Hi. Sorry for the inconvenience caused. Your Payoff amount is $6973'],\n",
       " 'links': ['http://idare1.eastus.cloudapp.azure.com:8081/static/pdf/balance_calc.pdf',\n",
       "  'http://idare1.eastus.cloudapp.azure.com:8081/static/images/payoff_calc.png',\n",
       "  'http://idare1.eastus.cloudapp.azure.com:8081/static/pdf/Mortgage_servicing.pdf'],\n",
       " 'context_field': ['customerid',\n",
       "  'loanamount',\n",
       "  'loanterm',\n",
       "  'rate',\n",
       "  'paymentsmade'],\n",
       " 'context_info': ['john1234', '100000.00', '30', '4.00', '345'],\n",
       " 'insights': ['The payoff amount is calculated using the formulae',\n",
       "  'The payoff amount is calculated using the formulae',\n",
       "  'The payoff amount is calculated using the formulae'],\n",
       " 'sender_id': 'e5dz24zs714b13guf2eyu1bj28z2g3pq_john1234',\n",
       " 'chat_open_time': 1537528294.4074605,\n",
       " 'topic': 'payoff',\n",
       " 'topic_confidence': '1.00',\n",
       " 'event_id': 'assist_1537528301.2379854',\n",
       " 'ticket_details': {'ID': 'john1234',\n",
       "  'date': 'Fri Sep 21 11:11:34 2018',\n",
       "  'category': 'payoff'},\n",
       " 'mode': 'agent_assist',\n",
       " 'ha_id': 'HA_agent5'}"
      ]
     },
     "execution_count": 13,
     "metadata": {},
     "output_type": "execute_result"
    }
   ],
   "source": [
    "tracker.events[-1].message_data"
   ]
  },
  {
   "cell_type": "code",
   "execution_count": null,
   "metadata": {},
   "outputs": [],
   "source": [
    " received_data = requests.get(\"http://localhost:6212/?sender_id=\"+sender_id)\n",
    "    print(\"recommended answer : \")\n",
    "    print(received_data.json()[\"requests\"][\"recom\"][1])\n",
    "    ws_agent.send(send_msg('HA_agent5+'+sender_id,\"Your payoff fee has also been waived off\"))\n",
    "    assert(received_data.json()[\"requests\"][\"intent\"]==\"affirm  \")\n",
    "    \n",
    "    \n",
    "\n",
    "    \n",
    "    ws_user.send(send_msg(sender_id,\"ok\"))\n",
    "    received_data=ws_user.recv()\n",
    "    print(received_data)\n",
    "    print(\"-\"*20)\n",
    "\n",
    "    '''\n",
    "    \n",
    "    received_data = requests.get(\"http://localhost:6212/?sender_id=\"+sender_id)\n",
    "    ws_agent.send(send_msg('HA_agent5+'+sender_id,received_data.json()[\"requests\"][\"recom\"][1]))\n",
    "    assert(received_data.json()[\"requests\"][\"intent\"]==\"affirm  \")\n",
    "    \n",
    "    \n",
    "\n",
    "    ws_agent.send(send_msg('HA_agent5+'+sender_id,'How would you like your quote to be delivered to you?'))\n",
    "    received_data=ws_agent.recv()\n",
    "    assert(received_data.json()[\"requests\"][\"intent\"]==\"affirm  \")\n",
    "    print(\"-\"*20)\n",
    "    \n",
    "    \n",
    "    ws_user.send(send_msg(sender_id,\"I would like it mailed to me\"))\n",
    "    received_data=ws_user.recv()\n",
    "    print(received_data)\n",
    "    print(\"-\"*20)\n",
    "    \n",
    "    ws_agent.send(send_msg('HA_agent5+'+sender_id,'How would you like your quote to be delivered to you?'))\n",
    "    received_data=ws_agent.recv()\n",
    "    assert(received_data.json()[\"requests\"][\"intent\"]==\"affirm  \")\n",
    "    print(\"-\"*20)\n",
    "    \n",
    "    ws_user.send(send_msg(sender_id,\"Okay thanks\"))\n",
    "    received_data=ws_user.recv()\n",
    "    print(received_data)\n",
    "    \n",
    "    ws_agent.send(send_msg('HA_agent5+'+sender_id,'Is there anything else ?'))\n",
    "    received_data=ws_agent.recv()\n",
    "    print(received_data)\n",
    "    '''"
   ]
  },
  {
   "cell_type": "code",
   "execution_count": null,
   "metadata": {},
   "outputs": [],
   "source": [
    "from rasa_nlu.model import Metadata, Interpreter\n",
    "interpreter = Interpreter.load('../nlu_model/default/current')"
   ]
  },
  {
   "cell_type": "code",
   "execution_count": null,
   "metadata": {},
   "outputs": [],
   "source": [
    "import sys\n",
    "import warnings\n",
    "\n",
    "if not sys.warnoptions:\n",
    "    warnings.simplefilter(\"ignore\")"
   ]
  },
  {
   "cell_type": "code",
   "execution_count": null,
   "metadata": {
    "scrolled": false
   },
   "outputs": [],
   "source": [
    "interp_data = interpreter.parse('Hi')\n",
    "assert(interp_data['act']['name'] == 'greet')\n",
    "\n",
    "interp_data = interpreter.parse('Hi, are you here for a Payoff quote?')\n",
    "assert(interp_data['act']['name'] == 'confirm' and interp_data['slots'][0]['entity'] == 'payoff')\n",
    "\n",
    "interp_data = interpreter.parse('yes')\n",
    "assert(interp_data['act']['name'] == 'affirm')\n",
    "\n",
    "interp_data = interpreter.parse('Sorry we could not resolve your Payoff request earlier. I will transfer you to a Payoff specialist who can assist you with this. Is that OK?')\n",
    "assert(interp_data['act']['name'] == 'request' and interp_data['slots'][0]['entity'] == 'request_route')\n",
    "\n",
    "interp_data = interpreter.parse('ok')\n",
    "assert(interp_data['act']['name'] == 'affirm')\n",
    "\n",
    "interp_data = interpreter.parse('Hi there. Your payoff amount is $1351.')\n",
    "assert(interp_data['act']['name'] == 'inform' and interp_data['slots'][0]['entity'] == 'payoff_amount')\n",
    "\n",
    "interp_data = interpreter.parse('Is there a payoff fee')\n",
    "assert(interp_data['act']['name'] == 'inform' and interp_data['slots'][0]['entity'] == 'penalty')\n",
    "\n",
    "interp_data = interpreter.parse('The Payoff fee has also been waived off . Do you wish to go ahead with the Payoff ?')\n",
    "assert(interp_data['act']['name'] == 'inform' and interp_data['slots'][0]['entity'] == 'waive_off')\n",
    "\n",
    "interp_data = interpreter.parse('Ok thats great !')\n",
    "assert(interp_data['act']['name'] == 'affirm')\n",
    "\n",
    "interp_data = interpreter.parse('How would you like your quote to be delivered to you?')\n",
    "assert(interp_data['act']['name'] == 'request' and interp_data['slots'][0]['entity'] == 'deliver')\n",
    "\n",
    "interp_data = interpreter.parse('I want it mailed to me')\n",
    "assert(interp_data['act']['name'] == 'inform' and interp_data['slots'][0]['entity'] == 'delivery_mode')\n",
    "\n",
    "interp_data = interpreter.parse('Alright. We will have it delivered in 6-7 days')\n",
    "assert interp_data['act']['name'] == 'affirm' and interp_data['slots'][0]['entity'] == 'deliver_days'\n",
    "\n"
   ]
  },
  {
   "cell_type": "code",
   "execution_count": null,
   "metadata": {},
   "outputs": [],
   "source": [
    "interp_data['text']"
   ]
  },
  {
   "cell_type": "code",
   "execution_count": null,
   "metadata": {},
   "outputs": [],
   "source": [
    "f'Text was { interp_data }'"
   ]
  },
  {
   "cell_type": "code",
   "execution_count": null,
   "metadata": {},
   "outputs": [],
   "source": []
  }
 ],
 "metadata": {
  "kernelspec": {
   "display_name": "Python (demo)",
   "language": "python",
   "name": "demo"
  },
  "language_info": {
   "codemirror_mode": {
    "name": "ipython",
    "version": 3
   },
   "file_extension": ".py",
   "mimetype": "text/x-python",
   "name": "python",
   "nbconvert_exporter": "python",
   "pygments_lexer": "ipython3",
   "version": "3.6.6"
  }
 },
 "nbformat": 4,
 "nbformat_minor": 2
}
